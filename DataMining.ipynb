{
  "nbformat": 4,
  "nbformat_minor": 0,
  "metadata": {
    "colab": {
      "provenance": [],
      "toc_visible": true,
      "include_colab_link": true
    },
    "kernelspec": {
      "name": "python3",
      "display_name": "Python 3"
    },
    "language_info": {
      "name": "python"
    }
  },
  "cells": [
    {
      "cell_type": "markdown",
      "metadata": {
        "id": "view-in-github",
        "colab_type": "text"
      },
      "source": [
        "<a href=\"https://colab.research.google.com/github/verdakhalil/IT-criminal/blob/main/DataMining.ipynb\" target=\"_parent\"><img src=\"https://colab.research.google.com/assets/colab-badge.svg\" alt=\"Open In Colab\"/></a>"
      ]
    },
    {
      "cell_type": "code",
      "execution_count": null,
      "metadata": {
        "colab": {
          "base_uri": "https://localhost:8080/",
          "height": 356
        },
        "id": "2sdcu59rdf4z",
        "outputId": "d9948b02-4e88-4e35-94ce-7abf05d15ee8"
      },
      "outputs": [
        {
          "output_type": "error",
          "ename": "AttributeError",
          "evalue": "ignored",
          "traceback": [
            "\u001b[0;31m---------------------------------------------------------------------------\u001b[0m",
            "\u001b[0;31mAttributeError\u001b[0m                            Traceback (most recent call last)",
            "\u001b[0;32m<ipython-input-15-9ac588a5bf2b>\u001b[0m in \u001b[0;36m<cell line: 5>\u001b[0;34m()\u001b[0m\n\u001b[1;32m      3\u001b[0m \u001b[0;31m# from sklearn.preprocessing import StandardScaler\u001b[0m\u001b[0;34m\u001b[0m\u001b[0;34m\u001b[0m\u001b[0m\n\u001b[1;32m      4\u001b[0m \u001b[0;31m# from sklearn.preprocessing import MinMaxScaler\u001b[0m\u001b[0;34m\u001b[0m\u001b[0;34m\u001b[0m\u001b[0m\n\u001b[0;32m----> 5\u001b[0;31m \u001b[0mf\u001b[0m \u001b[0;34m=\u001b[0m \u001b[0mpd\u001b[0m\u001b[0;34m.\u001b[0m\u001b[0mratings_Beauty\u001b[0m\u001b[0;34m.\u001b[0m\u001b[0mcsv\u001b[0m\u001b[0;34m(\u001b[0m\u001b[0;34m'timestamp.csv'\u001b[0m\u001b[0;34m)\u001b[0m\u001b[0;34m\u001b[0m\u001b[0;34m\u001b[0m\u001b[0m\n\u001b[0m\u001b[1;32m      6\u001b[0m \u001b[0mprint\u001b[0m\u001b[0;34m(\u001b[0m\u001b[0mf\u001b[0m\u001b[0;34m)\u001b[0m\u001b[0;34m\u001b[0m\u001b[0;34m\u001b[0m\u001b[0m\n\u001b[1;32m      7\u001b[0m \u001b[0;31m# print(f.head)\u001b[0m\u001b[0;34m\u001b[0m\u001b[0;34m\u001b[0m\u001b[0m\n",
            "\u001b[0;32m/usr/local/lib/python3.10/dist-packages/pandas/__init__.py\u001b[0m in \u001b[0;36m__getattr__\u001b[0;34m(name)\u001b[0m\n\u001b[1;32m    262\u001b[0m         \u001b[0;32mreturn\u001b[0m \u001b[0m_SparseArray\u001b[0m\u001b[0;34m\u001b[0m\u001b[0;34m\u001b[0m\u001b[0m\n\u001b[1;32m    263\u001b[0m \u001b[0;34m\u001b[0m\u001b[0m\n\u001b[0;32m--> 264\u001b[0;31m     \u001b[0;32mraise\u001b[0m \u001b[0mAttributeError\u001b[0m\u001b[0;34m(\u001b[0m\u001b[0;34mf\"module 'pandas' has no attribute '{name}'\"\u001b[0m\u001b[0;34m)\u001b[0m\u001b[0;34m\u001b[0m\u001b[0;34m\u001b[0m\u001b[0m\n\u001b[0m\u001b[1;32m    265\u001b[0m \u001b[0;34m\u001b[0m\u001b[0m\n\u001b[1;32m    266\u001b[0m \u001b[0;34m\u001b[0m\u001b[0m\n",
            "\u001b[0;31mAttributeError\u001b[0m: module 'pandas' has no attribute 'ratings_Beauty'"
          ]
        }
      ],
      "source": [
        "\n"
      ]
    },
    {
      "cell_type": "code",
      "source": [
        "from google.colab import drive\n",
        "drive.mount('/content/drive')"
      ],
      "metadata": {
        "id": "RYwbFnZ8DL60"
      },
      "execution_count": null,
      "outputs": []
    },
    {
      "cell_type": "markdown",
      "source": [
        "# New Section"
      ],
      "metadata": {
        "id": "M4KdGj2dFHAU"
      }
    },
    {
      "cell_type": "code",
      "source": [
        "import numpy as np\n",
        "import pandas as pd\n",
        "print(f.head(5))\n",
        "print(f)"
      ],
      "metadata": {
        "colab": {
          "base_uri": "https://localhost:8080/"
        },
        "id": "Nk18V0-Czj4Q",
        "outputId": "7d3a733e-480b-46a8-b25b-9faeca8890da"
      },
      "execution_count": null,
      "outputs": [
        {
          "output_type": "stream",
          "name": "stdout",
          "text": [
            "           bedrooms  bathrooms  sqft_lot  floors  view  condition  yr_built  \\\n",
            "price                                                                         \n",
            "313000.0          3       1.50      7912     1.5     0          3      1955   \n",
            "2384000.0         5       2.50      9050     2.0     4          5      1921   \n",
            "342000.0          3       2.00     11947     1.0     0          4      1966   \n",
            "420000.0          3       2.25      8030     1.0     0          4      1963   \n",
            "550000.0          4       2.50     10500     1.0     0          4      1976   \n",
            "\n",
            "           yr_renovated                    street       city  statezip country  \n",
            "price                                                                           \n",
            "313000.0           2005      18810 Densmore Ave N  Shoreline  WA 98133     USA  \n",
            "2384000.0             0           709 W Blaine St    Seattle  WA 98119     USA  \n",
            "342000.0              0  26206-26214 143rd Ave SE       Kent  WA 98042     USA  \n",
            "420000.0              0           857 170th Pl NE   Bellevue  WA 98008     USA  \n",
            "550000.0           1992         9105 170th Ave NE    Redmond  WA 98052     USA  \n",
            "              bedrooms  bathrooms  sqft_lot  floors  view  condition  \\\n",
            "price                                                                  \n",
            "3.130000e+05         3       1.50      7912     1.5     0          3   \n",
            "2.384000e+06         5       2.50      9050     2.0     4          5   \n",
            "3.420000e+05         3       2.00     11947     1.0     0          4   \n",
            "4.200000e+05         3       2.25      8030     1.0     0          4   \n",
            "5.500000e+05         4       2.50     10500     1.0     0          4   \n",
            "...                ...        ...       ...     ...   ...        ...   \n",
            "3.081667e+05         3       1.75      6360     1.0     0          4   \n",
            "5.343333e+05         3       2.50      7573     2.0     0          3   \n",
            "4.169042e+05         3       2.50      7014     2.0     0          3   \n",
            "2.034000e+05         4       2.00      6630     1.0     0          3   \n",
            "2.206000e+05         3       2.50      8102     2.0     0          4   \n",
            "\n",
            "              yr_built  yr_renovated                    street       city  \\\n",
            "price                                                                       \n",
            "3.130000e+05      1955          2005      18810 Densmore Ave N  Shoreline   \n",
            "2.384000e+06      1921             0           709 W Blaine St    Seattle   \n",
            "3.420000e+05      1966             0  26206-26214 143rd Ave SE       Kent   \n",
            "4.200000e+05      1963             0           857 170th Pl NE   Bellevue   \n",
            "5.500000e+05      1976          1992         9105 170th Ave NE    Redmond   \n",
            "...                ...           ...                       ...        ...   \n",
            "3.081667e+05      1954          1979            501 N 143rd St    Seattle   \n",
            "5.343333e+05      1983          2009          14855 SE 10th Pl   Bellevue   \n",
            "4.169042e+05      2009             0          759 Ilwaco Pl NE     Renton   \n",
            "2.034000e+05      1974             0         5148 S Creston St    Seattle   \n",
            "2.206000e+05      1990             0         18717 SE 258th St  Covington   \n",
            "\n",
            "              statezip country  \n",
            "price                           \n",
            "3.130000e+05  WA 98133     USA  \n",
            "2.384000e+06  WA 98119     USA  \n",
            "3.420000e+05  WA 98042     USA  \n",
            "4.200000e+05  WA 98008     USA  \n",
            "5.500000e+05  WA 98052     USA  \n",
            "...                ...     ...  \n",
            "3.081667e+05  WA 98133     USA  \n",
            "5.343333e+05  WA 98007     USA  \n",
            "4.169042e+05  WA 98059     USA  \n",
            "2.034000e+05  WA 98178     USA  \n",
            "2.206000e+05  WA 98042     USA  \n",
            "\n",
            "[4600 rows x 12 columns]\n"
          ]
        }
      ]
    },
    {
      "cell_type": "code",
      "source": [
        "import numpy as np\n",
        "import pandas as pd\n",
        "print(f.info())"
      ],
      "metadata": {
        "colab": {
          "base_uri": "https://localhost:8080/"
        },
        "id": "nrr_JKI-0C63",
        "outputId": "e235f519-2626-41aa-a652-2b0f3ae1f0e2"
      },
      "execution_count": null,
      "outputs": [
        {
          "output_type": "stream",
          "name": "stdout",
          "text": [
            "<class 'pandas.core.frame.DataFrame'>\n",
            "RangeIndex: 4600 entries, 0 to 4599\n",
            "Data columns (total 13 columns):\n",
            " #   Column        Non-Null Count  Dtype  \n",
            "---  ------        --------------  -----  \n",
            " 0   price         4600 non-null   float64\n",
            " 1   bedrooms      4600 non-null   int64  \n",
            " 2   bathrooms     4600 non-null   float64\n",
            " 3   sqft_lot      4600 non-null   int64  \n",
            " 4   floors        4600 non-null   float64\n",
            " 5   view          4600 non-null   int64  \n",
            " 6   condition     4600 non-null   int64  \n",
            " 7   yr_built      4600 non-null   int64  \n",
            " 8   yr_renovated  4600 non-null   int64  \n",
            " 9   street        4600 non-null   object \n",
            " 10  city          4600 non-null   object \n",
            " 11  statezip      4600 non-null   object \n",
            " 12  country       4600 non-null   object \n",
            "dtypes: float64(3), int64(6), object(4)\n",
            "memory usage: 467.3+ KB\n",
            "None\n"
          ]
        }
      ]
    },
    {
      "cell_type": "code",
      "source": [
        "import numpy as np\n",
        "import pandas as pd\n",
        "print(f.describe())"
      ],
      "metadata": {
        "colab": {
          "base_uri": "https://localhost:8080/"
        },
        "id": "oeU342MG1OHY",
        "outputId": "19954359-9190-48b1-cae9-e26334821a73"
      },
      "execution_count": null,
      "outputs": [
        {
          "output_type": "stream",
          "name": "stdout",
          "text": [
            "              price     bedrooms    bathrooms      sqft_lot       floors  \\\n",
            "count  4.600000e+03  4600.000000  4600.000000  4.600000e+03  4600.000000   \n",
            "mean   5.519630e+05     3.400870     2.160815  1.485252e+04     1.512065   \n",
            "std    5.638347e+05     0.908848     0.783781  3.588444e+04     0.538288   \n",
            "min    0.000000e+00     0.000000     0.000000  6.380000e+02     1.000000   \n",
            "25%    3.228750e+05     3.000000     1.750000  5.000750e+03     1.000000   \n",
            "50%    4.609435e+05     3.000000     2.250000  7.683000e+03     1.500000   \n",
            "75%    6.549625e+05     4.000000     2.500000  1.100125e+04     2.000000   \n",
            "max    2.659000e+07     9.000000     8.000000  1.074218e+06     3.500000   \n",
            "\n",
            "              view    condition     yr_built  yr_renovated  \n",
            "count  4600.000000  4600.000000  4600.000000   4600.000000  \n",
            "mean      0.240652     3.451739  1970.786304    808.608261  \n",
            "std       0.778405     0.677230    29.731848    979.414536  \n",
            "min       0.000000     1.000000  1900.000000      0.000000  \n",
            "25%       0.000000     3.000000  1951.000000      0.000000  \n",
            "50%       0.000000     3.000000  1976.000000      0.000000  \n",
            "75%       0.000000     4.000000  1997.000000   1999.000000  \n",
            "max       4.000000     5.000000  2014.000000   2014.000000  \n"
          ]
        }
      ]
    },
    {
      "cell_type": "code",
      "source": [
        "import numpy as np\n",
        "import pandas as pd\n",
        "print(f['price'])"
      ],
      "metadata": {
        "colab": {
          "base_uri": "https://localhost:8080/"
        },
        "id": "8F3sQPu11dGa",
        "outputId": "1097aced-0f00-4cea-efc7-927407bcf65b"
      },
      "execution_count": null,
      "outputs": [
        {
          "output_type": "stream",
          "name": "stdout",
          "text": [
            "0       3.130000e+05\n",
            "1       2.384000e+06\n",
            "2       3.420000e+05\n",
            "3       4.200000e+05\n",
            "4       5.500000e+05\n",
            "            ...     \n",
            "4595    3.081667e+05\n",
            "4596    5.343333e+05\n",
            "4597    4.169042e+05\n",
            "4598    2.034000e+05\n",
            "4599    2.206000e+05\n",
            "Name: price, Length: 4600, dtype: float64\n"
          ]
        }
      ]
    },
    {
      "cell_type": "code",
      "source": [
        "import numpy as np\n",
        "import pandas as pd\n",
        "print(f.iloc[1,1])"
      ],
      "metadata": {
        "colab": {
          "base_uri": "https://localhost:8080/"
        },
        "id": "lIgn9xxX1o4R",
        "outputId": "72e7cd6b-90e8-4b73-e979-3f0b32be93d6"
      },
      "execution_count": null,
      "outputs": [
        {
          "output_type": "stream",
          "name": "stdout",
          "text": [
            "5\n"
          ]
        }
      ]
    },
    {
      "cell_type": "code",
      "source": [
        "import numpy as np\n",
        "import pandas as pd\n",
        "print(f.loc[1,'price'])"
      ],
      "metadata": {
        "colab": {
          "base_uri": "https://localhost:8080/"
        },
        "id": "BGiGZDSe2ARW",
        "outputId": "b6382710-14e8-44b8-c1b0-3364526d671f"
      },
      "execution_count": null,
      "outputs": [
        {
          "output_type": "stream",
          "name": "stdout",
          "text": [
            "2384000.0\n"
          ]
        }
      ]
    },
    {
      "cell_type": "code",
      "source": [
        "import numpy as np\n",
        "import pandas as pd\n",
        "print(f['price']>50000)"
      ],
      "metadata": {
        "colab": {
          "base_uri": "https://localhost:8080/"
        },
        "id": "8KiX4c7V2MT3",
        "outputId": "627d28c7-3be7-4eb7-ca76-32da0f43e4fe"
      },
      "execution_count": null,
      "outputs": [
        {
          "output_type": "stream",
          "name": "stdout",
          "text": [
            "0       True\n",
            "1       True\n",
            "2       True\n",
            "3       True\n",
            "4       True\n",
            "        ... \n",
            "4595    True\n",
            "4596    True\n",
            "4597    True\n",
            "4598    True\n",
            "4599    True\n",
            "Name: price, Length: 4600, dtype: bool\n"
          ]
        }
      ]
    },
    {
      "cell_type": "code",
      "source": [
        "import numpy as np\n",
        "import pandas as pd\n",
        "column_dict={'price':'newprice'}\n",
        "print(f)"
      ],
      "metadata": {
        "colab": {
          "base_uri": "https://localhost:8080/"
        },
        "id": "IMyWn0Yu2azt",
        "outputId": "05e15b77-6857-4355-c526-be9e1220a5d8"
      },
      "execution_count": null,
      "outputs": [
        {
          "output_type": "stream",
          "name": "stdout",
          "text": [
            "             price  bedrooms  bathrooms  sqft_lot  floors  view  condition  \\\n",
            "0     3.130000e+05         3       1.50      7912     1.5     0          3   \n",
            "1     2.384000e+06         5       2.50      9050     2.0     4          5   \n",
            "2     3.420000e+05         3       2.00     11947     1.0     0          4   \n",
            "3     4.200000e+05         3       2.25      8030     1.0     0          4   \n",
            "4     5.500000e+05         4       2.50     10500     1.0     0          4   \n",
            "...            ...       ...        ...       ...     ...   ...        ...   \n",
            "4595  3.081667e+05         3       1.75      6360     1.0     0          4   \n",
            "4596  5.343333e+05         3       2.50      7573     2.0     0          3   \n",
            "4597  4.169042e+05         3       2.50      7014     2.0     0          3   \n",
            "4598  2.034000e+05         4       2.00      6630     1.0     0          3   \n",
            "4599  2.206000e+05         3       2.50      8102     2.0     0          4   \n",
            "\n",
            "      yr_built  yr_renovated                    street       city  statezip  \\\n",
            "0         1955          2005      18810 Densmore Ave N  Shoreline  WA 98133   \n",
            "1         1921             0           709 W Blaine St    Seattle  WA 98119   \n",
            "2         1966             0  26206-26214 143rd Ave SE       Kent  WA 98042   \n",
            "3         1963             0           857 170th Pl NE   Bellevue  WA 98008   \n",
            "4         1976          1992         9105 170th Ave NE    Redmond  WA 98052   \n",
            "...        ...           ...                       ...        ...       ...   \n",
            "4595      1954          1979            501 N 143rd St    Seattle  WA 98133   \n",
            "4596      1983          2009          14855 SE 10th Pl   Bellevue  WA 98007   \n",
            "4597      2009             0          759 Ilwaco Pl NE     Renton  WA 98059   \n",
            "4598      1974             0         5148 S Creston St    Seattle  WA 98178   \n",
            "4599      1990             0         18717 SE 258th St  Covington  WA 98042   \n",
            "\n",
            "     country  \n",
            "0        USA  \n",
            "1        USA  \n",
            "2        USA  \n",
            "3        USA  \n",
            "4        USA  \n",
            "...      ...  \n",
            "4595     USA  \n",
            "4596     USA  \n",
            "4597     USA  \n",
            "4598     USA  \n",
            "4599     USA  \n",
            "\n",
            "[4600 rows x 13 columns]\n"
          ]
        }
      ]
    },
    {
      "cell_type": "code",
      "source": [
        "import numpy as np\n",
        "import pandas as pd\n",
        "column_names=['Area']"
      ],
      "metadata": {
        "id": "CZmMe6dv3z-m"
      },
      "execution_count": null,
      "outputs": []
    },
    {
      "cell_type": "code",
      "source": [
        "import numpy as np\n",
        "import pandas as pd\n",
        "f.sort_values('price')"
      ],
      "metadata": {
        "colab": {
          "base_uri": "https://localhost:8080/",
          "height": 731
        },
        "id": "rKB39nMu4gbN",
        "outputId": "c04380e7-ac4e-4b9f-c8ad-1459125ca35a"
      },
      "execution_count": null,
      "outputs": [
        {
          "output_type": "execute_result",
          "data": {
            "text/plain": [
              "           price  bedrooms  bathrooms  sqft_lot  floors  view  condition  \\\n",
              "4472         0.0         4       3.75     19290     2.0     0          3   \n",
              "4542         0.0         5       3.50      6895     2.0     0          3   \n",
              "4481         0.0         5       2.75      6863     2.0     0          3   \n",
              "4408         0.0         5       2.25     11965     2.0     0          4   \n",
              "4411         0.0         5       2.25      7900     1.0     0          4   \n",
              "...          ...       ...        ...       ...     ...   ...        ...   \n",
              "2761   4489000.0         4       3.00     27517     2.0     0          3   \n",
              "2654   4668000.0         5       6.75     13068     1.0     4          3   \n",
              "2286   7062500.0         5       4.50     37325     2.0     2          3   \n",
              "4346  12899000.0         3       2.50     11394     1.0     0          3   \n",
              "4350  26590000.0         3       2.00      7793     1.0     0          4   \n",
              "\n",
              "      yr_built  yr_renovated                     street           city  \\\n",
              "4472      2002             0            21418 SE 5th Pl      Sammamish   \n",
              "4542      2001             0            34529 SE Jay Ct     Snoqualmie   \n",
              "4481      2013          1923  1301-1303 Monterey Ave NE         Renton   \n",
              "4408      1990             0          25437 163rd Pl SE      Covington   \n",
              "4411      1986             0            3202 S 194th St         SeaTac   \n",
              "...        ...           ...                        ...            ...   \n",
              "2761      2001             0      1149-1199 91st Ave NE       Bellevue   \n",
              "2654      1983          2009        5044 Butterworth Rd  Mercer Island   \n",
              "2286      1940          2001           4442 95th Ave NE       Bellevue   \n",
              "4346      1956          2001            5426 40th Ave W        Seattle   \n",
              "4350      1992             0          12005 SE 219th Ct           Kent   \n",
              "\n",
              "      statezip country  \n",
              "4472  WA 98074     USA  \n",
              "4542  WA 98065     USA  \n",
              "4481  WA 98056     USA  \n",
              "4408  WA 98042     USA  \n",
              "4411  WA 98188     USA  \n",
              "...        ...     ...  \n",
              "2761  WA 98004     USA  \n",
              "2654  WA 98040     USA  \n",
              "2286  WA 98004     USA  \n",
              "4346  WA 98199     USA  \n",
              "4350  WA 98031     USA  \n",
              "\n",
              "[4600 rows x 13 columns]"
            ],
            "text/html": [
              "\n",
              "  <div id=\"df-4d705c51-61cf-4a41-bc1e-4f1c9c2de4c4\">\n",
              "    <div class=\"colab-df-container\">\n",
              "      <div>\n",
              "<style scoped>\n",
              "    .dataframe tbody tr th:only-of-type {\n",
              "        vertical-align: middle;\n",
              "    }\n",
              "\n",
              "    .dataframe tbody tr th {\n",
              "        vertical-align: top;\n",
              "    }\n",
              "\n",
              "    .dataframe thead th {\n",
              "        text-align: right;\n",
              "    }\n",
              "</style>\n",
              "<table border=\"1\" class=\"dataframe\">\n",
              "  <thead>\n",
              "    <tr style=\"text-align: right;\">\n",
              "      <th></th>\n",
              "      <th>price</th>\n",
              "      <th>bedrooms</th>\n",
              "      <th>bathrooms</th>\n",
              "      <th>sqft_lot</th>\n",
              "      <th>floors</th>\n",
              "      <th>view</th>\n",
              "      <th>condition</th>\n",
              "      <th>yr_built</th>\n",
              "      <th>yr_renovated</th>\n",
              "      <th>street</th>\n",
              "      <th>city</th>\n",
              "      <th>statezip</th>\n",
              "      <th>country</th>\n",
              "    </tr>\n",
              "  </thead>\n",
              "  <tbody>\n",
              "    <tr>\n",
              "      <th>4472</th>\n",
              "      <td>0.0</td>\n",
              "      <td>4</td>\n",
              "      <td>3.75</td>\n",
              "      <td>19290</td>\n",
              "      <td>2.0</td>\n",
              "      <td>0</td>\n",
              "      <td>3</td>\n",
              "      <td>2002</td>\n",
              "      <td>0</td>\n",
              "      <td>21418 SE 5th Pl</td>\n",
              "      <td>Sammamish</td>\n",
              "      <td>WA 98074</td>\n",
              "      <td>USA</td>\n",
              "    </tr>\n",
              "    <tr>\n",
              "      <th>4542</th>\n",
              "      <td>0.0</td>\n",
              "      <td>5</td>\n",
              "      <td>3.50</td>\n",
              "      <td>6895</td>\n",
              "      <td>2.0</td>\n",
              "      <td>0</td>\n",
              "      <td>3</td>\n",
              "      <td>2001</td>\n",
              "      <td>0</td>\n",
              "      <td>34529 SE Jay Ct</td>\n",
              "      <td>Snoqualmie</td>\n",
              "      <td>WA 98065</td>\n",
              "      <td>USA</td>\n",
              "    </tr>\n",
              "    <tr>\n",
              "      <th>4481</th>\n",
              "      <td>0.0</td>\n",
              "      <td>5</td>\n",
              "      <td>2.75</td>\n",
              "      <td>6863</td>\n",
              "      <td>2.0</td>\n",
              "      <td>0</td>\n",
              "      <td>3</td>\n",
              "      <td>2013</td>\n",
              "      <td>1923</td>\n",
              "      <td>1301-1303 Monterey Ave NE</td>\n",
              "      <td>Renton</td>\n",
              "      <td>WA 98056</td>\n",
              "      <td>USA</td>\n",
              "    </tr>\n",
              "    <tr>\n",
              "      <th>4408</th>\n",
              "      <td>0.0</td>\n",
              "      <td>5</td>\n",
              "      <td>2.25</td>\n",
              "      <td>11965</td>\n",
              "      <td>2.0</td>\n",
              "      <td>0</td>\n",
              "      <td>4</td>\n",
              "      <td>1990</td>\n",
              "      <td>0</td>\n",
              "      <td>25437 163rd Pl SE</td>\n",
              "      <td>Covington</td>\n",
              "      <td>WA 98042</td>\n",
              "      <td>USA</td>\n",
              "    </tr>\n",
              "    <tr>\n",
              "      <th>4411</th>\n",
              "      <td>0.0</td>\n",
              "      <td>5</td>\n",
              "      <td>2.25</td>\n",
              "      <td>7900</td>\n",
              "      <td>1.0</td>\n",
              "      <td>0</td>\n",
              "      <td>4</td>\n",
              "      <td>1986</td>\n",
              "      <td>0</td>\n",
              "      <td>3202 S 194th St</td>\n",
              "      <td>SeaTac</td>\n",
              "      <td>WA 98188</td>\n",
              "      <td>USA</td>\n",
              "    </tr>\n",
              "    <tr>\n",
              "      <th>...</th>\n",
              "      <td>...</td>\n",
              "      <td>...</td>\n",
              "      <td>...</td>\n",
              "      <td>...</td>\n",
              "      <td>...</td>\n",
              "      <td>...</td>\n",
              "      <td>...</td>\n",
              "      <td>...</td>\n",
              "      <td>...</td>\n",
              "      <td>...</td>\n",
              "      <td>...</td>\n",
              "      <td>...</td>\n",
              "      <td>...</td>\n",
              "    </tr>\n",
              "    <tr>\n",
              "      <th>2761</th>\n",
              "      <td>4489000.0</td>\n",
              "      <td>4</td>\n",
              "      <td>3.00</td>\n",
              "      <td>27517</td>\n",
              "      <td>2.0</td>\n",
              "      <td>0</td>\n",
              "      <td>3</td>\n",
              "      <td>2001</td>\n",
              "      <td>0</td>\n",
              "      <td>1149-1199 91st Ave NE</td>\n",
              "      <td>Bellevue</td>\n",
              "      <td>WA 98004</td>\n",
              "      <td>USA</td>\n",
              "    </tr>\n",
              "    <tr>\n",
              "      <th>2654</th>\n",
              "      <td>4668000.0</td>\n",
              "      <td>5</td>\n",
              "      <td>6.75</td>\n",
              "      <td>13068</td>\n",
              "      <td>1.0</td>\n",
              "      <td>4</td>\n",
              "      <td>3</td>\n",
              "      <td>1983</td>\n",
              "      <td>2009</td>\n",
              "      <td>5044 Butterworth Rd</td>\n",
              "      <td>Mercer Island</td>\n",
              "      <td>WA 98040</td>\n",
              "      <td>USA</td>\n",
              "    </tr>\n",
              "    <tr>\n",
              "      <th>2286</th>\n",
              "      <td>7062500.0</td>\n",
              "      <td>5</td>\n",
              "      <td>4.50</td>\n",
              "      <td>37325</td>\n",
              "      <td>2.0</td>\n",
              "      <td>2</td>\n",
              "      <td>3</td>\n",
              "      <td>1940</td>\n",
              "      <td>2001</td>\n",
              "      <td>4442 95th Ave NE</td>\n",
              "      <td>Bellevue</td>\n",
              "      <td>WA 98004</td>\n",
              "      <td>USA</td>\n",
              "    </tr>\n",
              "    <tr>\n",
              "      <th>4346</th>\n",
              "      <td>12899000.0</td>\n",
              "      <td>3</td>\n",
              "      <td>2.50</td>\n",
              "      <td>11394</td>\n",
              "      <td>1.0</td>\n",
              "      <td>0</td>\n",
              "      <td>3</td>\n",
              "      <td>1956</td>\n",
              "      <td>2001</td>\n",
              "      <td>5426 40th Ave W</td>\n",
              "      <td>Seattle</td>\n",
              "      <td>WA 98199</td>\n",
              "      <td>USA</td>\n",
              "    </tr>\n",
              "    <tr>\n",
              "      <th>4350</th>\n",
              "      <td>26590000.0</td>\n",
              "      <td>3</td>\n",
              "      <td>2.00</td>\n",
              "      <td>7793</td>\n",
              "      <td>1.0</td>\n",
              "      <td>0</td>\n",
              "      <td>4</td>\n",
              "      <td>1992</td>\n",
              "      <td>0</td>\n",
              "      <td>12005 SE 219th Ct</td>\n",
              "      <td>Kent</td>\n",
              "      <td>WA 98031</td>\n",
              "      <td>USA</td>\n",
              "    </tr>\n",
              "  </tbody>\n",
              "</table>\n",
              "<p>4600 rows × 13 columns</p>\n",
              "</div>\n",
              "      <button class=\"colab-df-convert\" onclick=\"convertToInteractive('df-4d705c51-61cf-4a41-bc1e-4f1c9c2de4c4')\"\n",
              "              title=\"Convert this dataframe to an interactive table.\"\n",
              "              style=\"display:none;\">\n",
              "        \n",
              "  <svg xmlns=\"http://www.w3.org/2000/svg\" height=\"24px\"viewBox=\"0 0 24 24\"\n",
              "       width=\"24px\">\n",
              "    <path d=\"M0 0h24v24H0V0z\" fill=\"none\"/>\n",
              "    <path d=\"M18.56 5.44l.94 2.06.94-2.06 2.06-.94-2.06-.94-.94-2.06-.94 2.06-2.06.94zm-11 1L8.5 8.5l.94-2.06 2.06-.94-2.06-.94L8.5 2.5l-.94 2.06-2.06.94zm10 10l.94 2.06.94-2.06 2.06-.94-2.06-.94-.94-2.06-.94 2.06-2.06.94z\"/><path d=\"M17.41 7.96l-1.37-1.37c-.4-.4-.92-.59-1.43-.59-.52 0-1.04.2-1.43.59L10.3 9.45l-7.72 7.72c-.78.78-.78 2.05 0 2.83L4 21.41c.39.39.9.59 1.41.59.51 0 1.02-.2 1.41-.59l7.78-7.78 2.81-2.81c.8-.78.8-2.07 0-2.86zM5.41 20L4 18.59l7.72-7.72 1.47 1.35L5.41 20z\"/>\n",
              "  </svg>\n",
              "      </button>\n",
              "      \n",
              "  <style>\n",
              "    .colab-df-container {\n",
              "      display:flex;\n",
              "      flex-wrap:wrap;\n",
              "      gap: 12px;\n",
              "    }\n",
              "\n",
              "    .colab-df-convert {\n",
              "      background-color: #E8F0FE;\n",
              "      border: none;\n",
              "      border-radius: 50%;\n",
              "      cursor: pointer;\n",
              "      display: none;\n",
              "      fill: #1967D2;\n",
              "      height: 32px;\n",
              "      padding: 0 0 0 0;\n",
              "      width: 32px;\n",
              "    }\n",
              "\n",
              "    .colab-df-convert:hover {\n",
              "      background-color: #E2EBFA;\n",
              "      box-shadow: 0px 1px 2px rgba(60, 64, 67, 0.3), 0px 1px 3px 1px rgba(60, 64, 67, 0.15);\n",
              "      fill: #174EA6;\n",
              "    }\n",
              "\n",
              "    [theme=dark] .colab-df-convert {\n",
              "      background-color: #3B4455;\n",
              "      fill: #D2E3FC;\n",
              "    }\n",
              "\n",
              "    [theme=dark] .colab-df-convert:hover {\n",
              "      background-color: #434B5C;\n",
              "      box-shadow: 0px 1px 3px 1px rgba(0, 0, 0, 0.15);\n",
              "      filter: drop-shadow(0px 1px 2px rgba(0, 0, 0, 0.3));\n",
              "      fill: #FFFFFF;\n",
              "    }\n",
              "  </style>\n",
              "\n",
              "      <script>\n",
              "        const buttonEl =\n",
              "          document.querySelector('#df-4d705c51-61cf-4a41-bc1e-4f1c9c2de4c4 button.colab-df-convert');\n",
              "        buttonEl.style.display =\n",
              "          google.colab.kernel.accessAllowed ? 'block' : 'none';\n",
              "\n",
              "        async function convertToInteractive(key) {\n",
              "          const element = document.querySelector('#df-4d705c51-61cf-4a41-bc1e-4f1c9c2de4c4');\n",
              "          const dataTable =\n",
              "            await google.colab.kernel.invokeFunction('convertToInteractive',\n",
              "                                                     [key], {});\n",
              "          if (!dataTable) return;\n",
              "\n",
              "          const docLinkHtml = 'Like what you see? Visit the ' +\n",
              "            '<a target=\"_blank\" href=https://colab.research.google.com/notebooks/data_table.ipynb>data table notebook</a>'\n",
              "            + ' to learn more about interactive tables.';\n",
              "          element.innerHTML = '';\n",
              "          dataTable['output_type'] = 'display_data';\n",
              "          await google.colab.output.renderOutput(dataTable, element);\n",
              "          const docLink = document.createElement('div');\n",
              "          docLink.innerHTML = docLinkHtml;\n",
              "          element.appendChild(docLink);\n",
              "        }\n",
              "      </script>\n",
              "    </div>\n",
              "  </div>\n",
              "  "
            ]
          },
          "metadata": {},
          "execution_count": 34
        }
      ]
    },
    {
      "cell_type": "code",
      "source": [
        "import numpy as np\n",
        "import pandas as pd\n",
        "from sklearn.preprocessing import StandardScaler\n",
        "from sklearn.preprocessing import MinMaxScaler\n",
        "column_names = ['price']\n",
        "scaler= StandardScaler()\n",
        "print(f['price'])\n",
        "# print(f_scaled)"
      ],
      "metadata": {
        "colab": {
          "base_uri": "https://localhost:8080/"
        },
        "id": "fy6QFtnk41r2",
        "outputId": "73793140-4add-44ce-f2b6-f6cc7aef6cd8"
      },
      "execution_count": null,
      "outputs": [
        {
          "output_type": "stream",
          "name": "stdout",
          "text": [
            "0       3.130000e+05\n",
            "1       2.384000e+06\n",
            "2       3.420000e+05\n",
            "3       4.200000e+05\n",
            "4       5.500000e+05\n",
            "            ...     \n",
            "4595    3.081667e+05\n",
            "4596    5.343333e+05\n",
            "4597    4.169042e+05\n",
            "4598    2.034000e+05\n",
            "4599    2.206000e+05\n",
            "Name: price, Length: 4600, dtype: float64\n"
          ]
        }
      ]
    },
    {
      "cell_type": "code",
      "source": [
        "import numpy as np\n",
        "import pandas as pd\n",
        "from sklearn.preprocessing import StandardScaler\n",
        "from sklearn.preprocessing import MinMaxScaler\n",
        "column_names=['price']\n",
        "scaler=MinMaxScaler()\n",
        "f_normalized= scaler.fit_transform(f[column_names])\n",
        "print(f_normalized)\n",
        "print(f['price'])"
      ],
      "metadata": {
        "colab": {
          "base_uri": "https://localhost:8080/"
        },
        "id": "KfrwE_Mm573Q",
        "outputId": "4462a98b-7d5d-4d02-e1bb-5aa231b14aaa"
      },
      "execution_count": null,
      "outputs": [
        {
          "output_type": "stream",
          "name": "stdout",
          "text": [
            "[[0.01177134]\n",
            " [0.08965777]\n",
            " [0.01286198]\n",
            " ...\n",
            " [0.01567898]\n",
            " [0.00764949]\n",
            " [0.00829635]]\n",
            "0       3.130000e+05\n",
            "1       2.384000e+06\n",
            "2       3.420000e+05\n",
            "3       4.200000e+05\n",
            "4       5.500000e+05\n",
            "            ...     \n",
            "4595    3.081667e+05\n",
            "4596    5.343333e+05\n",
            "4597    4.169042e+05\n",
            "4598    2.034000e+05\n",
            "4599    2.206000e+05\n",
            "Name: price, Length: 4600, dtype: float64\n"
          ]
        }
      ]
    },
    {
      "cell_type": "code",
      "source": [
        "import numpy as np\n",
        "import pandas as pd\n",
        "from sklearn.preprocessing import StandardScaler\n",
        "from sklearn.preprocessing import MinMaxScaler\n",
        "def add_one(x):\n",
        "  return x+2\n",
        "  f['new_column']= f['price'].apply(add_one)\n",
        "  print(f.head())"
      ],
      "metadata": {
        "id": "sjjh3r5i7PiM"
      },
      "execution_count": null,
      "outputs": []
    },
    {
      "cell_type": "code",
      "source": [
        "import numpy as np\n",
        "import pandas as pd\n",
        "from sklearn.preprocessing import StandardScaler\n",
        "from sklearn.preprocessing import MinMaxScaler\n",
        "f=pd.DataFrame(f)\n",
        "f.set_index('price', inplace = True)\n",
        "print(f)\n",
        "print(f.head())"
      ],
      "metadata": {
        "colab": {
          "base_uri": "https://localhost:8080/"
        },
        "id": "s0qFXwcm8aSU",
        "outputId": "5ebbe61d-8014-4775-f3de-ffc926b787ee"
      },
      "execution_count": null,
      "outputs": [
        {
          "output_type": "stream",
          "name": "stdout",
          "text": [
            "              bedrooms  bathrooms  sqft_lot  floors  view  condition  \\\n",
            "price                                                                  \n",
            "3.130000e+05         3       1.50      7912     1.5     0          3   \n",
            "2.384000e+06         5       2.50      9050     2.0     4          5   \n",
            "3.420000e+05         3       2.00     11947     1.0     0          4   \n",
            "4.200000e+05         3       2.25      8030     1.0     0          4   \n",
            "5.500000e+05         4       2.50     10500     1.0     0          4   \n",
            "...                ...        ...       ...     ...   ...        ...   \n",
            "3.081667e+05         3       1.75      6360     1.0     0          4   \n",
            "5.343333e+05         3       2.50      7573     2.0     0          3   \n",
            "4.169042e+05         3       2.50      7014     2.0     0          3   \n",
            "2.034000e+05         4       2.00      6630     1.0     0          3   \n",
            "2.206000e+05         3       2.50      8102     2.0     0          4   \n",
            "\n",
            "              yr_built  yr_renovated                    street       city  \\\n",
            "price                                                                       \n",
            "3.130000e+05      1955          2005      18810 Densmore Ave N  Shoreline   \n",
            "2.384000e+06      1921             0           709 W Blaine St    Seattle   \n",
            "3.420000e+05      1966             0  26206-26214 143rd Ave SE       Kent   \n",
            "4.200000e+05      1963             0           857 170th Pl NE   Bellevue   \n",
            "5.500000e+05      1976          1992         9105 170th Ave NE    Redmond   \n",
            "...                ...           ...                       ...        ...   \n",
            "3.081667e+05      1954          1979            501 N 143rd St    Seattle   \n",
            "5.343333e+05      1983          2009          14855 SE 10th Pl   Bellevue   \n",
            "4.169042e+05      2009             0          759 Ilwaco Pl NE     Renton   \n",
            "2.034000e+05      1974             0         5148 S Creston St    Seattle   \n",
            "2.206000e+05      1990             0         18717 SE 258th St  Covington   \n",
            "\n",
            "              statezip country  \n",
            "price                           \n",
            "3.130000e+05  WA 98133     USA  \n",
            "2.384000e+06  WA 98119     USA  \n",
            "3.420000e+05  WA 98042     USA  \n",
            "4.200000e+05  WA 98008     USA  \n",
            "5.500000e+05  WA 98052     USA  \n",
            "...                ...     ...  \n",
            "3.081667e+05  WA 98133     USA  \n",
            "5.343333e+05  WA 98007     USA  \n",
            "4.169042e+05  WA 98059     USA  \n",
            "2.034000e+05  WA 98178     USA  \n",
            "2.206000e+05  WA 98042     USA  \n",
            "\n",
            "[4600 rows x 12 columns]\n",
            "           bedrooms  bathrooms  sqft_lot  floors  view  condition  yr_built  \\\n",
            "price                                                                         \n",
            "313000.0          3       1.50      7912     1.5     0          3      1955   \n",
            "2384000.0         5       2.50      9050     2.0     4          5      1921   \n",
            "342000.0          3       2.00     11947     1.0     0          4      1966   \n",
            "420000.0          3       2.25      8030     1.0     0          4      1963   \n",
            "550000.0          4       2.50     10500     1.0     0          4      1976   \n",
            "\n",
            "           yr_renovated                    street       city  statezip country  \n",
            "price                                                                           \n",
            "313000.0           2005      18810 Densmore Ave N  Shoreline  WA 98133     USA  \n",
            "2384000.0             0           709 W Blaine St    Seattle  WA 98119     USA  \n",
            "342000.0              0  26206-26214 143rd Ave SE       Kent  WA 98042     USA  \n",
            "420000.0              0           857 170th Pl NE   Bellevue  WA 98008     USA  \n",
            "550000.0           1992         9105 170th Ave NE    Redmond  WA 98052     USA  \n"
          ]
        }
      ]
    },
    {
      "cell_type": "code",
      "source": [
        "import numpy as np\n",
        "import pandas as pd\n",
        "from sklearn.preprocessing import StandardScaler\n",
        "from sklearn.preprocessing import MinMaxScaler\n",
        "f_dropped = f.dropna()\n",
        "print(f)\n",
        "print(f_dropped)"
      ],
      "metadata": {
        "colab": {
          "base_uri": "https://localhost:8080/"
        },
        "id": "mdtzT2Xa9MZK",
        "outputId": "30d6eaa3-6483-4955-8715-d547292f0352"
      },
      "execution_count": null,
      "outputs": [
        {
          "output_type": "stream",
          "name": "stdout",
          "text": [
            "              bedrooms  bathrooms  sqft_lot  floors  view  condition  \\\n",
            "price                                                                  \n",
            "3.130000e+05         3       1.50      7912     1.5     0          3   \n",
            "2.384000e+06         5       2.50      9050     2.0     4          5   \n",
            "3.420000e+05         3       2.00     11947     1.0     0          4   \n",
            "4.200000e+05         3       2.25      8030     1.0     0          4   \n",
            "5.500000e+05         4       2.50     10500     1.0     0          4   \n",
            "...                ...        ...       ...     ...   ...        ...   \n",
            "3.081667e+05         3       1.75      6360     1.0     0          4   \n",
            "5.343333e+05         3       2.50      7573     2.0     0          3   \n",
            "4.169042e+05         3       2.50      7014     2.0     0          3   \n",
            "2.034000e+05         4       2.00      6630     1.0     0          3   \n",
            "2.206000e+05         3       2.50      8102     2.0     0          4   \n",
            "\n",
            "              yr_built  yr_renovated                    street       city  \\\n",
            "price                                                                       \n",
            "3.130000e+05      1955          2005      18810 Densmore Ave N  Shoreline   \n",
            "2.384000e+06      1921             0           709 W Blaine St    Seattle   \n",
            "3.420000e+05      1966             0  26206-26214 143rd Ave SE       Kent   \n",
            "4.200000e+05      1963             0           857 170th Pl NE   Bellevue   \n",
            "5.500000e+05      1976          1992         9105 170th Ave NE    Redmond   \n",
            "...                ...           ...                       ...        ...   \n",
            "3.081667e+05      1954          1979            501 N 143rd St    Seattle   \n",
            "5.343333e+05      1983          2009          14855 SE 10th Pl   Bellevue   \n",
            "4.169042e+05      2009             0          759 Ilwaco Pl NE     Renton   \n",
            "2.034000e+05      1974             0         5148 S Creston St    Seattle   \n",
            "2.206000e+05      1990             0         18717 SE 258th St  Covington   \n",
            "\n",
            "              statezip country  \n",
            "price                           \n",
            "3.130000e+05  WA 98133     USA  \n",
            "2.384000e+06  WA 98119     USA  \n",
            "3.420000e+05  WA 98042     USA  \n",
            "4.200000e+05  WA 98008     USA  \n",
            "5.500000e+05  WA 98052     USA  \n",
            "...                ...     ...  \n",
            "3.081667e+05  WA 98133     USA  \n",
            "5.343333e+05  WA 98007     USA  \n",
            "4.169042e+05  WA 98059     USA  \n",
            "2.034000e+05  WA 98178     USA  \n",
            "2.206000e+05  WA 98042     USA  \n",
            "\n",
            "[4600 rows x 12 columns]\n",
            "              bedrooms  bathrooms  sqft_lot  floors  view  condition  \\\n",
            "price                                                                  \n",
            "3.130000e+05         3       1.50      7912     1.5     0          3   \n",
            "2.384000e+06         5       2.50      9050     2.0     4          5   \n",
            "3.420000e+05         3       2.00     11947     1.0     0          4   \n",
            "4.200000e+05         3       2.25      8030     1.0     0          4   \n",
            "5.500000e+05         4       2.50     10500     1.0     0          4   \n",
            "...                ...        ...       ...     ...   ...        ...   \n",
            "3.081667e+05         3       1.75      6360     1.0     0          4   \n",
            "5.343333e+05         3       2.50      7573     2.0     0          3   \n",
            "4.169042e+05         3       2.50      7014     2.0     0          3   \n",
            "2.034000e+05         4       2.00      6630     1.0     0          3   \n",
            "2.206000e+05         3       2.50      8102     2.0     0          4   \n",
            "\n",
            "              yr_built  yr_renovated                    street       city  \\\n",
            "price                                                                       \n",
            "3.130000e+05      1955          2005      18810 Densmore Ave N  Shoreline   \n",
            "2.384000e+06      1921             0           709 W Blaine St    Seattle   \n",
            "3.420000e+05      1966             0  26206-26214 143rd Ave SE       Kent   \n",
            "4.200000e+05      1963             0           857 170th Pl NE   Bellevue   \n",
            "5.500000e+05      1976          1992         9105 170th Ave NE    Redmond   \n",
            "...                ...           ...                       ...        ...   \n",
            "3.081667e+05      1954          1979            501 N 143rd St    Seattle   \n",
            "5.343333e+05      1983          2009          14855 SE 10th Pl   Bellevue   \n",
            "4.169042e+05      2009             0          759 Ilwaco Pl NE     Renton   \n",
            "2.034000e+05      1974             0         5148 S Creston St    Seattle   \n",
            "2.206000e+05      1990             0         18717 SE 258th St  Covington   \n",
            "\n",
            "              statezip country  \n",
            "price                           \n",
            "3.130000e+05  WA 98133     USA  \n",
            "2.384000e+06  WA 98119     USA  \n",
            "3.420000e+05  WA 98042     USA  \n",
            "4.200000e+05  WA 98008     USA  \n",
            "5.500000e+05  WA 98052     USA  \n",
            "...                ...     ...  \n",
            "3.081667e+05  WA 98133     USA  \n",
            "5.343333e+05  WA 98007     USA  \n",
            "4.169042e+05  WA 98059     USA  \n",
            "2.034000e+05  WA 98178     USA  \n",
            "2.206000e+05  WA 98042     USA  \n",
            "\n",
            "[4600 rows x 12 columns]\n"
          ]
        }
      ]
    }
  ]
}